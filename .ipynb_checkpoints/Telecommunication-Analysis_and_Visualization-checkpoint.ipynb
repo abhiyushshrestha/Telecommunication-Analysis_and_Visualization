{
 "cells": [
  {
   "cell_type": "code",
   "execution_count": 1,
   "id": "7a7078ce",
   "metadata": {},
   "outputs": [],
   "source": [
    "import numpy as np # linear algebra\n",
    "import pandas as pd # data processing, CSV file I/O (e.g. pd.read_csv)\n",
    "import seaborn as sns # For creating plots\n",
    "import matplotlib.ticker as mtick # For specifying the axes tick format \n",
    "import matplotlib.pyplot as plt"
   ]
  },
  {
   "cell_type": "code",
   "execution_count": 2,
   "id": "8cb97e55",
   "metadata": {},
   "outputs": [],
   "source": [
    "telecom_df = pd.read_csv(\"data/telco-Customer-Churn.csv\")"
   ]
  },
  {
   "cell_type": "code",
   "execution_count": 3,
   "id": "44061d93",
   "metadata": {},
   "outputs": [
    {
     "data": {
      "text/html": [
       "<div>\n",
       "<style scoped>\n",
       "    .dataframe tbody tr th:only-of-type {\n",
       "        vertical-align: middle;\n",
       "    }\n",
       "\n",
       "    .dataframe tbody tr th {\n",
       "        vertical-align: top;\n",
       "    }\n",
       "\n",
       "    .dataframe thead th {\n",
       "        text-align: right;\n",
       "    }\n",
       "</style>\n",
       "<table border=\"1\" class=\"dataframe\">\n",
       "  <thead>\n",
       "    <tr style=\"text-align: right;\">\n",
       "      <th></th>\n",
       "      <th>customerID</th>\n",
       "      <th>gender</th>\n",
       "      <th>SeniorCitizen</th>\n",
       "      <th>Partner</th>\n",
       "      <th>Dependents</th>\n",
       "      <th>tenure</th>\n",
       "      <th>PhoneService</th>\n",
       "      <th>MultipleLines</th>\n",
       "      <th>InternetService</th>\n",
       "      <th>OnlineSecurity</th>\n",
       "      <th>...</th>\n",
       "      <th>DeviceProtection</th>\n",
       "      <th>TechSupport</th>\n",
       "      <th>StreamingTV</th>\n",
       "      <th>StreamingMovies</th>\n",
       "      <th>Contract</th>\n",
       "      <th>PaperlessBilling</th>\n",
       "      <th>PaymentMethod</th>\n",
       "      <th>MonthlyCharges</th>\n",
       "      <th>TotalCharges</th>\n",
       "      <th>Churn</th>\n",
       "    </tr>\n",
       "  </thead>\n",
       "  <tbody>\n",
       "    <tr>\n",
       "      <th>0</th>\n",
       "      <td>7590-VHVEG</td>\n",
       "      <td>Female</td>\n",
       "      <td>0</td>\n",
       "      <td>Yes</td>\n",
       "      <td>No</td>\n",
       "      <td>1</td>\n",
       "      <td>No</td>\n",
       "      <td>No phone service</td>\n",
       "      <td>DSL</td>\n",
       "      <td>No</td>\n",
       "      <td>...</td>\n",
       "      <td>No</td>\n",
       "      <td>No</td>\n",
       "      <td>No</td>\n",
       "      <td>No</td>\n",
       "      <td>Month-to-month</td>\n",
       "      <td>Yes</td>\n",
       "      <td>Electronic check</td>\n",
       "      <td>29.85</td>\n",
       "      <td>29.85</td>\n",
       "      <td>No</td>\n",
       "    </tr>\n",
       "    <tr>\n",
       "      <th>1</th>\n",
       "      <td>5575-GNVDE</td>\n",
       "      <td>Male</td>\n",
       "      <td>0</td>\n",
       "      <td>No</td>\n",
       "      <td>No</td>\n",
       "      <td>34</td>\n",
       "      <td>Yes</td>\n",
       "      <td>No</td>\n",
       "      <td>DSL</td>\n",
       "      <td>Yes</td>\n",
       "      <td>...</td>\n",
       "      <td>Yes</td>\n",
       "      <td>No</td>\n",
       "      <td>No</td>\n",
       "      <td>No</td>\n",
       "      <td>One year</td>\n",
       "      <td>No</td>\n",
       "      <td>Mailed check</td>\n",
       "      <td>56.95</td>\n",
       "      <td>1889.5</td>\n",
       "      <td>No</td>\n",
       "    </tr>\n",
       "    <tr>\n",
       "      <th>2</th>\n",
       "      <td>3668-QPYBK</td>\n",
       "      <td>Male</td>\n",
       "      <td>0</td>\n",
       "      <td>No</td>\n",
       "      <td>No</td>\n",
       "      <td>2</td>\n",
       "      <td>Yes</td>\n",
       "      <td>No</td>\n",
       "      <td>DSL</td>\n",
       "      <td>Yes</td>\n",
       "      <td>...</td>\n",
       "      <td>No</td>\n",
       "      <td>No</td>\n",
       "      <td>No</td>\n",
       "      <td>No</td>\n",
       "      <td>Month-to-month</td>\n",
       "      <td>Yes</td>\n",
       "      <td>Mailed check</td>\n",
       "      <td>53.85</td>\n",
       "      <td>108.15</td>\n",
       "      <td>Yes</td>\n",
       "    </tr>\n",
       "    <tr>\n",
       "      <th>3</th>\n",
       "      <td>7795-CFOCW</td>\n",
       "      <td>Male</td>\n",
       "      <td>0</td>\n",
       "      <td>No</td>\n",
       "      <td>No</td>\n",
       "      <td>45</td>\n",
       "      <td>No</td>\n",
       "      <td>No phone service</td>\n",
       "      <td>DSL</td>\n",
       "      <td>Yes</td>\n",
       "      <td>...</td>\n",
       "      <td>Yes</td>\n",
       "      <td>Yes</td>\n",
       "      <td>No</td>\n",
       "      <td>No</td>\n",
       "      <td>One year</td>\n",
       "      <td>No</td>\n",
       "      <td>Bank transfer (automatic)</td>\n",
       "      <td>42.30</td>\n",
       "      <td>1840.75</td>\n",
       "      <td>No</td>\n",
       "    </tr>\n",
       "    <tr>\n",
       "      <th>4</th>\n",
       "      <td>9237-HQITU</td>\n",
       "      <td>Female</td>\n",
       "      <td>0</td>\n",
       "      <td>No</td>\n",
       "      <td>No</td>\n",
       "      <td>2</td>\n",
       "      <td>Yes</td>\n",
       "      <td>No</td>\n",
       "      <td>Fiber optic</td>\n",
       "      <td>No</td>\n",
       "      <td>...</td>\n",
       "      <td>No</td>\n",
       "      <td>No</td>\n",
       "      <td>No</td>\n",
       "      <td>No</td>\n",
       "      <td>Month-to-month</td>\n",
       "      <td>Yes</td>\n",
       "      <td>Electronic check</td>\n",
       "      <td>70.70</td>\n",
       "      <td>151.65</td>\n",
       "      <td>Yes</td>\n",
       "    </tr>\n",
       "  </tbody>\n",
       "</table>\n",
       "<p>5 rows × 21 columns</p>\n",
       "</div>"
      ],
      "text/plain": [
       "   customerID  gender  SeniorCitizen Partner Dependents  tenure PhoneService  \\\n",
       "0  7590-VHVEG  Female              0     Yes         No       1           No   \n",
       "1  5575-GNVDE    Male              0      No         No      34          Yes   \n",
       "2  3668-QPYBK    Male              0      No         No       2          Yes   \n",
       "3  7795-CFOCW    Male              0      No         No      45           No   \n",
       "4  9237-HQITU  Female              0      No         No       2          Yes   \n",
       "\n",
       "      MultipleLines InternetService OnlineSecurity  ... DeviceProtection  \\\n",
       "0  No phone service             DSL             No  ...               No   \n",
       "1                No             DSL            Yes  ...              Yes   \n",
       "2                No             DSL            Yes  ...               No   \n",
       "3  No phone service             DSL            Yes  ...              Yes   \n",
       "4                No     Fiber optic             No  ...               No   \n",
       "\n",
       "  TechSupport StreamingTV StreamingMovies        Contract PaperlessBilling  \\\n",
       "0          No          No              No  Month-to-month              Yes   \n",
       "1          No          No              No        One year               No   \n",
       "2          No          No              No  Month-to-month              Yes   \n",
       "3         Yes          No              No        One year               No   \n",
       "4          No          No              No  Month-to-month              Yes   \n",
       "\n",
       "               PaymentMethod MonthlyCharges  TotalCharges Churn  \n",
       "0           Electronic check          29.85         29.85    No  \n",
       "1               Mailed check          56.95        1889.5    No  \n",
       "2               Mailed check          53.85        108.15   Yes  \n",
       "3  Bank transfer (automatic)          42.30       1840.75    No  \n",
       "4           Electronic check          70.70        151.65   Yes  \n",
       "\n",
       "[5 rows x 21 columns]"
      ]
     },
     "execution_count": 3,
     "metadata": {},
     "output_type": "execute_result"
    }
   ],
   "source": [
    "telecom_df.head()"
   ]
  },
  {
   "cell_type": "markdown",
   "id": "2986e37e",
   "metadata": {},
   "source": [
    "### Gettting the information of all the features "
   ]
  },
  {
   "cell_type": "code",
   "execution_count": 4,
   "id": "9867c9a2",
   "metadata": {},
   "outputs": [
    {
     "name": "stdout",
     "output_type": "stream",
     "text": [
      "<class 'pandas.core.frame.DataFrame'>\n",
      "RangeIndex: 7043 entries, 0 to 7042\n",
      "Data columns (total 21 columns):\n",
      " #   Column            Non-Null Count  Dtype  \n",
      "---  ------            --------------  -----  \n",
      " 0   customerID        7043 non-null   object \n",
      " 1   gender            7043 non-null   object \n",
      " 2   SeniorCitizen     7043 non-null   int64  \n",
      " 3   Partner           7043 non-null   object \n",
      " 4   Dependents        7043 non-null   object \n",
      " 5   tenure            7043 non-null   int64  \n",
      " 6   PhoneService      7043 non-null   object \n",
      " 7   MultipleLines     7043 non-null   object \n",
      " 8   InternetService   7043 non-null   object \n",
      " 9   OnlineSecurity    7043 non-null   object \n",
      " 10  OnlineBackup      7043 non-null   object \n",
      " 11  DeviceProtection  7043 non-null   object \n",
      " 12  TechSupport       7043 non-null   object \n",
      " 13  StreamingTV       7043 non-null   object \n",
      " 14  StreamingMovies   7043 non-null   object \n",
      " 15  Contract          7043 non-null   object \n",
      " 16  PaperlessBilling  7043 non-null   object \n",
      " 17  PaymentMethod     7043 non-null   object \n",
      " 18  MonthlyCharges    7043 non-null   float64\n",
      " 19  TotalCharges      7043 non-null   object \n",
      " 20  Churn             7043 non-null   object \n",
      "dtypes: float64(1), int64(2), object(18)\n",
      "memory usage: 1.1+ MB\n"
     ]
    }
   ],
   "source": [
    "telecom_df.info()"
   ]
  },
  {
   "cell_type": "markdown",
   "id": "5931b3be",
   "metadata": {},
   "source": [
    "### All the necessary functions"
   ]
  },
  {
   "cell_type": "code",
   "execution_count": 5,
   "id": "187e1f34",
   "metadata": {},
   "outputs": [],
   "source": [
    "def display_summary(df, column_name):\n",
    "    '''\n",
    "        Function to display summary of each columns\n",
    "        \n",
    "        :params: \n",
    "            df : dataframe\n",
    "            column_name : a column name of a dataframe\n",
    "        \n",
    "        :return:\n",
    "            a dataframe with value counts of unique values of a each column\n",
    "    '''\n",
    "    print(\"*\"*20)\n",
    "    print(column_name)\n",
    "    print(\"*\"*20)\n",
    "    print(\"No. of unique value for column '{}'::{}\".format(column_name, len(df[column_name].unique())))\n",
    "    print(\"\\n\")\n",
    "    display_df = df[column_name].value_counts()\n",
    "    print(display_df)\n",
    "    print(\"=\"*50)\n",
    "    return display_df\n",
    "    \n",
    "def get_summary(df, all_features = True, feature_name = None):\n",
    "    '''\n",
    "        Function to get the value counts of all the columns or a single column of a Dataframe\n",
    "        \n",
    "        :params:\n",
    "            df : a dataframe \n",
    "            all_features : True to get the summary of all the columns and False to get the summary of single column Default: True\n",
    "            feature_name : name of a column to get the summary. Default: None\n",
    "    '''\n",
    "    if all_features:\n",
    "        for column in df.columns:\n",
    "            display_summary(df, column)\n",
    "    else:\n",
    "        summary_df = display_summary(df, feature_name)\n",
    "        return summary_df\n",
    "    \n",
    "def barplot(x, y, df, title):\n",
    "    '''\n",
    "        Function to plot the bar chart from a given dataframe\n",
    "        \n",
    "        :param:\n",
    "            x : the values for x axis of the bar plot\n",
    "            y : the values for y axis of the bar plot\n",
    "            df : a dataframe\n",
    "            title : title of the barplot\n",
    "    '''\n",
    "    fig, axes = plt.subplots(figsize=(8,5))\n",
    "    sns.set_theme(style=\"whitegrid\")\n",
    "    ax = sns.barplot(x=x, y=y, data=df)\n",
    "    \n",
    "    ax.set_title(title)\n",
    "    ax.tick_params(axis='x', rotation=30)\n",
    "    for index, row in df.iterrows():\n",
    "        ax.text(row.name,row[y], round(row[y],2), color='black', ha=\"center\")"
   ]
  },
  {
   "cell_type": "code",
   "execution_count": 6,
   "id": "5a094f85",
   "metadata": {},
   "outputs": [
    {
     "name": "stdout",
     "output_type": "stream",
     "text": [
      "********************\n",
      "customerID\n",
      "********************\n",
      "No. of unique value for column 'customerID'::7043\n",
      "\n",
      "\n",
      "7590-VHVEG    1\n",
      "3791-LGQCY    1\n",
      "6008-NAIXK    1\n",
      "5956-YHHRX    1\n",
      "5365-LLFYV    1\n",
      "             ..\n",
      "9796-MVYXX    1\n",
      "2637-FKFSY    1\n",
      "1552-AAGRX    1\n",
      "4304-TSPVK    1\n",
      "3186-AJIEK    1\n",
      "Name: customerID, Length: 7043, dtype: int64\n",
      "==================================================\n",
      "********************\n",
      "gender\n",
      "********************\n",
      "No. of unique value for column 'gender'::2\n",
      "\n",
      "\n",
      "Male      3555\n",
      "Female    3488\n",
      "Name: gender, dtype: int64\n",
      "==================================================\n",
      "********************\n",
      "SeniorCitizen\n",
      "********************\n",
      "No. of unique value for column 'SeniorCitizen'::2\n",
      "\n",
      "\n",
      "0    5901\n",
      "1    1142\n",
      "Name: SeniorCitizen, dtype: int64\n",
      "==================================================\n",
      "********************\n",
      "Partner\n",
      "********************\n",
      "No. of unique value for column 'Partner'::2\n",
      "\n",
      "\n",
      "No     3641\n",
      "Yes    3402\n",
      "Name: Partner, dtype: int64\n",
      "==================================================\n",
      "********************\n",
      "Dependents\n",
      "********************\n",
      "No. of unique value for column 'Dependents'::2\n",
      "\n",
      "\n",
      "No     4933\n",
      "Yes    2110\n",
      "Name: Dependents, dtype: int64\n",
      "==================================================\n",
      "********************\n",
      "tenure\n",
      "********************\n",
      "No. of unique value for column 'tenure'::73\n",
      "\n",
      "\n",
      "1     613\n",
      "72    362\n",
      "2     238\n",
      "3     200\n",
      "4     176\n",
      "     ... \n",
      "28     57\n",
      "39     56\n",
      "44     51\n",
      "36     50\n",
      "0      11\n",
      "Name: tenure, Length: 73, dtype: int64\n",
      "==================================================\n",
      "********************\n",
      "PhoneService\n",
      "********************\n",
      "No. of unique value for column 'PhoneService'::2\n",
      "\n",
      "\n",
      "Yes    6361\n",
      "No      682\n",
      "Name: PhoneService, dtype: int64\n",
      "==================================================\n",
      "********************\n",
      "MultipleLines\n",
      "********************\n",
      "No. of unique value for column 'MultipleLines'::3\n",
      "\n",
      "\n",
      "No                  3390\n",
      "Yes                 2971\n",
      "No phone service     682\n",
      "Name: MultipleLines, dtype: int64\n",
      "==================================================\n",
      "********************\n",
      "InternetService\n",
      "********************\n",
      "No. of unique value for column 'InternetService'::3\n",
      "\n",
      "\n",
      "Fiber optic    3096\n",
      "DSL            2421\n",
      "No             1526\n",
      "Name: InternetService, dtype: int64\n",
      "==================================================\n",
      "********************\n",
      "OnlineSecurity\n",
      "********************\n",
      "No. of unique value for column 'OnlineSecurity'::3\n",
      "\n",
      "\n",
      "No                     3498\n",
      "Yes                    2019\n",
      "No internet service    1526\n",
      "Name: OnlineSecurity, dtype: int64\n",
      "==================================================\n",
      "********************\n",
      "OnlineBackup\n",
      "********************\n",
      "No. of unique value for column 'OnlineBackup'::3\n",
      "\n",
      "\n",
      "No                     3088\n",
      "Yes                    2429\n",
      "No internet service    1526\n",
      "Name: OnlineBackup, dtype: int64\n",
      "==================================================\n",
      "********************\n",
      "DeviceProtection\n",
      "********************\n",
      "No. of unique value for column 'DeviceProtection'::3\n",
      "\n",
      "\n",
      "No                     3095\n",
      "Yes                    2422\n",
      "No internet service    1526\n",
      "Name: DeviceProtection, dtype: int64\n",
      "==================================================\n",
      "********************\n",
      "TechSupport\n",
      "********************\n",
      "No. of unique value for column 'TechSupport'::3\n",
      "\n",
      "\n",
      "No                     3473\n",
      "Yes                    2044\n",
      "No internet service    1526\n",
      "Name: TechSupport, dtype: int64\n",
      "==================================================\n",
      "********************\n",
      "StreamingTV\n",
      "********************\n",
      "No. of unique value for column 'StreamingTV'::3\n",
      "\n",
      "\n",
      "No                     2810\n",
      "Yes                    2707\n",
      "No internet service    1526\n",
      "Name: StreamingTV, dtype: int64\n",
      "==================================================\n",
      "********************\n",
      "StreamingMovies\n",
      "********************\n",
      "No. of unique value for column 'StreamingMovies'::3\n",
      "\n",
      "\n",
      "No                     2785\n",
      "Yes                    2732\n",
      "No internet service    1526\n",
      "Name: StreamingMovies, dtype: int64\n",
      "==================================================\n",
      "********************\n",
      "Contract\n",
      "********************\n",
      "No. of unique value for column 'Contract'::3\n",
      "\n",
      "\n",
      "Month-to-month    3875\n",
      "Two year          1695\n",
      "One year          1473\n",
      "Name: Contract, dtype: int64\n",
      "==================================================\n",
      "********************\n",
      "PaperlessBilling\n",
      "********************\n",
      "No. of unique value for column 'PaperlessBilling'::2\n",
      "\n",
      "\n",
      "Yes    4171\n",
      "No     2872\n",
      "Name: PaperlessBilling, dtype: int64\n",
      "==================================================\n",
      "********************\n",
      "PaymentMethod\n",
      "********************\n",
      "No. of unique value for column 'PaymentMethod'::4\n",
      "\n",
      "\n",
      "Electronic check             2365\n",
      "Mailed check                 1612\n",
      "Bank transfer (automatic)    1544\n",
      "Credit card (automatic)      1522\n",
      "Name: PaymentMethod, dtype: int64\n",
      "==================================================\n",
      "********************\n",
      "MonthlyCharges\n",
      "********************\n",
      "No. of unique value for column 'MonthlyCharges'::1585\n",
      "\n",
      "\n",
      "20.05     61\n",
      "19.85     45\n",
      "19.95     44\n",
      "19.90     44\n",
      "20.00     43\n",
      "          ..\n",
      "23.65      1\n",
      "114.70     1\n",
      "43.65      1\n",
      "87.80      1\n",
      "78.70      1\n",
      "Name: MonthlyCharges, Length: 1585, dtype: int64\n",
      "==================================================\n",
      "********************\n",
      "TotalCharges\n",
      "********************\n",
      "No. of unique value for column 'TotalCharges'::6531\n",
      "\n",
      "\n",
      "          11\n",
      "20.2      11\n",
      "19.75      9\n",
      "20.05      8\n",
      "19.9       8\n",
      "          ..\n",
      "6849.4     1\n",
      "692.35     1\n",
      "130.15     1\n",
      "3211.9     1\n",
      "6844.5     1\n",
      "Name: TotalCharges, Length: 6531, dtype: int64\n",
      "==================================================\n",
      "********************\n",
      "Churn\n",
      "********************\n",
      "No. of unique value for column 'Churn'::2\n",
      "\n",
      "\n",
      "No     5174\n",
      "Yes    1869\n",
      "Name: Churn, dtype: int64\n",
      "==================================================\n"
     ]
    }
   ],
   "source": [
    "get_summary(telecom_df)"
   ]
  },
  {
   "cell_type": "markdown",
   "id": "ba8fe9c8",
   "metadata": {},
   "source": [
    "### Data transformation\n",
    "\n",
    "- Total charge column is in object format so it needs transformation to numeric format"
   ]
  },
  {
   "cell_type": "code",
   "execution_count": 7,
   "id": "1638f117",
   "metadata": {},
   "outputs": [],
   "source": [
    "# Converting Total Charges to a numerical data type.\n",
    "telecom_df.TotalCharges = pd.to_numeric(telecom_df.TotalCharges, errors='coerce')\n",
    "# telecom_df.isnull().sum()"
   ]
  },
  {
   "cell_type": "markdown",
   "id": "181b4f4d",
   "metadata": {},
   "source": [
    "### Summarizing Missing Values  \n",
    "After data transformation or data cleaning is performed, the summary of the data needs to check again to ensure everything is good with the data. For instance, we might want to look at the total number of missing values for each feature."
   ]
  },
  {
   "cell_type": "code",
   "execution_count": 8,
   "id": "97a846e8",
   "metadata": {},
   "outputs": [
    {
     "name": "stdout",
     "output_type": "stream",
     "text": [
      "<class 'pandas.core.frame.DataFrame'>\n",
      "RangeIndex: 7043 entries, 0 to 7042\n",
      "Data columns (total 21 columns):\n",
      " #   Column            Non-Null Count  Dtype  \n",
      "---  ------            --------------  -----  \n",
      " 0   customerID        7043 non-null   object \n",
      " 1   gender            7043 non-null   object \n",
      " 2   SeniorCitizen     7043 non-null   int64  \n",
      " 3   Partner           7043 non-null   object \n",
      " 4   Dependents        7043 non-null   object \n",
      " 5   tenure            7043 non-null   int64  \n",
      " 6   PhoneService      7043 non-null   object \n",
      " 7   MultipleLines     7043 non-null   object \n",
      " 8   InternetService   7043 non-null   object \n",
      " 9   OnlineSecurity    7043 non-null   object \n",
      " 10  OnlineBackup      7043 non-null   object \n",
      " 11  DeviceProtection  7043 non-null   object \n",
      " 12  TechSupport       7043 non-null   object \n",
      " 13  StreamingTV       7043 non-null   object \n",
      " 14  StreamingMovies   7043 non-null   object \n",
      " 15  Contract          7043 non-null   object \n",
      " 16  PaperlessBilling  7043 non-null   object \n",
      " 17  PaymentMethod     7043 non-null   object \n",
      " 18  MonthlyCharges    7043 non-null   float64\n",
      " 19  TotalCharges      7032 non-null   float64\n",
      " 20  Churn             7043 non-null   object \n",
      "dtypes: float64(2), int64(2), object(17)\n",
      "memory usage: 1.1+ MB\n"
     ]
    }
   ],
   "source": [
    "telecom_df.info()"
   ]
  },
  {
   "cell_type": "code",
   "execution_count": 9,
   "id": "00c18653",
   "metadata": {},
   "outputs": [
    {
     "data": {
      "text/plain": [
       "customerID           0\n",
       "gender               0\n",
       "SeniorCitizen        0\n",
       "Partner              0\n",
       "Dependents           0\n",
       "tenure               0\n",
       "PhoneService         0\n",
       "MultipleLines        0\n",
       "InternetService      0\n",
       "OnlineSecurity       0\n",
       "OnlineBackup         0\n",
       "DeviceProtection     0\n",
       "TechSupport          0\n",
       "StreamingTV          0\n",
       "StreamingMovies      0\n",
       "Contract             0\n",
       "PaperlessBilling     0\n",
       "PaymentMethod        0\n",
       "MonthlyCharges       0\n",
       "TotalCharges        11\n",
       "Churn                0\n",
       "dtype: int64"
      ]
     },
     "execution_count": 9,
     "metadata": {},
     "output_type": "execute_result"
    }
   ],
   "source": [
    "telecom_df.isnull().sum()"
   ]
  },
  {
   "cell_type": "markdown",
   "id": "d968da3b",
   "metadata": {},
   "source": [
    "### Missing values  \n",
    "\n",
    "- Some missing values are found in TotalCharges column i.e. 11 of the datas are missing.  \n",
    "- Here’s some typical reasons why data is missing:  \n",
    "    - User forgot to fill in a field.  \n",
    "    - Data was lost while transferring manually from a legacy database.  \n",
    "    - There was a programming error.  \n",
    "    - Users chose not to fill out a field tied to their beliefs about how the results would be used or interpreted.  "
   ]
  },
  {
   "cell_type": "code",
   "execution_count": 10,
   "id": "4bf09a12",
   "metadata": {},
   "outputs": [],
   "source": [
    "# Replace using median \n",
    "median = telecom_df['TotalCharges'].median()\n",
    "telecom_df['TotalCharges'].fillna(median, inplace=True)"
   ]
  },
  {
   "cell_type": "code",
   "execution_count": 11,
   "id": "213a78b1",
   "metadata": {},
   "outputs": [],
   "source": [
    "telecom_df_1 = telecom_df.iloc[:,1:]\n",
    "#Converting the predictor variable in a binary numeric variable\n",
    "telecom_df_1['Churn'].replace(to_replace='Yes', value=1, inplace=True)\n",
    "telecom_df_1['Churn'].replace(to_replace='No',  value=0, inplace=True)\n"
   ]
  },
  {
   "cell_type": "markdown",
   "id": "37ba84bd",
   "metadata": {},
   "source": [
    "### Labelling the categorical values\n",
    "\n",
    "- Two different ways to encode the categorical value\n",
    "    - **Label encoder** \n",
    "        - Label Encoding is a popular encoding technique for handling categorical variables. In this technique, each label is assigned a unique integer based on alphabetical ordering.\n",
    "        - But, when label encoding is performed, the categorical values are ranked based on the alphabets.\n",
    "        - Due to this, there is a very high probability that the model captures the relationship between categorical values i.e. monthwise < one year contract < two year contract  \n",
    "        \n",
    "    - **One Hot encoder**\n",
    "        - One-Hot Encoding is another popular technique for treating categorical variables. \n",
    "        - It simply creates additional features based on the number of unique values in the categorical feature.\n",
    "        - Every unique value in the category will be added as a feature.\n",
    "        - One-Hot Encoding is the process of creating dummy variables."
   ]
  },
  {
   "cell_type": "code",
   "execution_count": 12,
   "id": "7da399ff",
   "metadata": {},
   "outputs": [
    {
     "data": {
      "text/html": [
       "<div>\n",
       "<style scoped>\n",
       "    .dataframe tbody tr th:only-of-type {\n",
       "        vertical-align: middle;\n",
       "    }\n",
       "\n",
       "    .dataframe tbody tr th {\n",
       "        vertical-align: top;\n",
       "    }\n",
       "\n",
       "    .dataframe thead th {\n",
       "        text-align: right;\n",
       "    }\n",
       "</style>\n",
       "<table border=\"1\" class=\"dataframe\">\n",
       "  <thead>\n",
       "    <tr style=\"text-align: right;\">\n",
       "      <th></th>\n",
       "      <th>SeniorCitizen</th>\n",
       "      <th>tenure</th>\n",
       "      <th>MonthlyCharges</th>\n",
       "      <th>TotalCharges</th>\n",
       "      <th>Churn</th>\n",
       "      <th>gender_Female</th>\n",
       "      <th>gender_Male</th>\n",
       "      <th>Partner_No</th>\n",
       "      <th>Partner_Yes</th>\n",
       "      <th>Dependents_No</th>\n",
       "      <th>...</th>\n",
       "      <th>StreamingMovies_Yes</th>\n",
       "      <th>Contract_Month-to-month</th>\n",
       "      <th>Contract_One year</th>\n",
       "      <th>Contract_Two year</th>\n",
       "      <th>PaperlessBilling_No</th>\n",
       "      <th>PaperlessBilling_Yes</th>\n",
       "      <th>PaymentMethod_Bank transfer (automatic)</th>\n",
       "      <th>PaymentMethod_Credit card (automatic)</th>\n",
       "      <th>PaymentMethod_Electronic check</th>\n",
       "      <th>PaymentMethod_Mailed check</th>\n",
       "    </tr>\n",
       "  </thead>\n",
       "  <tbody>\n",
       "    <tr>\n",
       "      <th>0</th>\n",
       "      <td>0</td>\n",
       "      <td>1</td>\n",
       "      <td>29.85</td>\n",
       "      <td>29.85</td>\n",
       "      <td>0</td>\n",
       "      <td>1</td>\n",
       "      <td>0</td>\n",
       "      <td>0</td>\n",
       "      <td>1</td>\n",
       "      <td>1</td>\n",
       "      <td>...</td>\n",
       "      <td>0</td>\n",
       "      <td>1</td>\n",
       "      <td>0</td>\n",
       "      <td>0</td>\n",
       "      <td>0</td>\n",
       "      <td>1</td>\n",
       "      <td>0</td>\n",
       "      <td>0</td>\n",
       "      <td>1</td>\n",
       "      <td>0</td>\n",
       "    </tr>\n",
       "    <tr>\n",
       "      <th>1</th>\n",
       "      <td>0</td>\n",
       "      <td>34</td>\n",
       "      <td>56.95</td>\n",
       "      <td>1889.50</td>\n",
       "      <td>0</td>\n",
       "      <td>0</td>\n",
       "      <td>1</td>\n",
       "      <td>1</td>\n",
       "      <td>0</td>\n",
       "      <td>1</td>\n",
       "      <td>...</td>\n",
       "      <td>0</td>\n",
       "      <td>0</td>\n",
       "      <td>1</td>\n",
       "      <td>0</td>\n",
       "      <td>1</td>\n",
       "      <td>0</td>\n",
       "      <td>0</td>\n",
       "      <td>0</td>\n",
       "      <td>0</td>\n",
       "      <td>1</td>\n",
       "    </tr>\n",
       "    <tr>\n",
       "      <th>2</th>\n",
       "      <td>0</td>\n",
       "      <td>2</td>\n",
       "      <td>53.85</td>\n",
       "      <td>108.15</td>\n",
       "      <td>1</td>\n",
       "      <td>0</td>\n",
       "      <td>1</td>\n",
       "      <td>1</td>\n",
       "      <td>0</td>\n",
       "      <td>1</td>\n",
       "      <td>...</td>\n",
       "      <td>0</td>\n",
       "      <td>1</td>\n",
       "      <td>0</td>\n",
       "      <td>0</td>\n",
       "      <td>0</td>\n",
       "      <td>1</td>\n",
       "      <td>0</td>\n",
       "      <td>0</td>\n",
       "      <td>0</td>\n",
       "      <td>1</td>\n",
       "    </tr>\n",
       "    <tr>\n",
       "      <th>3</th>\n",
       "      <td>0</td>\n",
       "      <td>45</td>\n",
       "      <td>42.30</td>\n",
       "      <td>1840.75</td>\n",
       "      <td>0</td>\n",
       "      <td>0</td>\n",
       "      <td>1</td>\n",
       "      <td>1</td>\n",
       "      <td>0</td>\n",
       "      <td>1</td>\n",
       "      <td>...</td>\n",
       "      <td>0</td>\n",
       "      <td>0</td>\n",
       "      <td>1</td>\n",
       "      <td>0</td>\n",
       "      <td>1</td>\n",
       "      <td>0</td>\n",
       "      <td>1</td>\n",
       "      <td>0</td>\n",
       "      <td>0</td>\n",
       "      <td>0</td>\n",
       "    </tr>\n",
       "    <tr>\n",
       "      <th>4</th>\n",
       "      <td>0</td>\n",
       "      <td>2</td>\n",
       "      <td>70.70</td>\n",
       "      <td>151.65</td>\n",
       "      <td>1</td>\n",
       "      <td>1</td>\n",
       "      <td>0</td>\n",
       "      <td>1</td>\n",
       "      <td>0</td>\n",
       "      <td>1</td>\n",
       "      <td>...</td>\n",
       "      <td>0</td>\n",
       "      <td>1</td>\n",
       "      <td>0</td>\n",
       "      <td>0</td>\n",
       "      <td>0</td>\n",
       "      <td>1</td>\n",
       "      <td>0</td>\n",
       "      <td>0</td>\n",
       "      <td>1</td>\n",
       "      <td>0</td>\n",
       "    </tr>\n",
       "  </tbody>\n",
       "</table>\n",
       "<p>5 rows × 46 columns</p>\n",
       "</div>"
      ],
      "text/plain": [
       "   SeniorCitizen  tenure  MonthlyCharges  TotalCharges  Churn  gender_Female  \\\n",
       "0              0       1           29.85         29.85      0              1   \n",
       "1              0      34           56.95       1889.50      0              0   \n",
       "2              0       2           53.85        108.15      1              0   \n",
       "3              0      45           42.30       1840.75      0              0   \n",
       "4              0       2           70.70        151.65      1              1   \n",
       "\n",
       "   gender_Male  Partner_No  Partner_Yes  Dependents_No  ...  \\\n",
       "0            0           0            1              1  ...   \n",
       "1            1           1            0              1  ...   \n",
       "2            1           1            0              1  ...   \n",
       "3            1           1            0              1  ...   \n",
       "4            0           1            0              1  ...   \n",
       "\n",
       "   StreamingMovies_Yes  Contract_Month-to-month  Contract_One year  \\\n",
       "0                    0                        1                  0   \n",
       "1                    0                        0                  1   \n",
       "2                    0                        1                  0   \n",
       "3                    0                        0                  1   \n",
       "4                    0                        1                  0   \n",
       "\n",
       "   Contract_Two year  PaperlessBilling_No  PaperlessBilling_Yes  \\\n",
       "0                  0                    0                     1   \n",
       "1                  0                    1                     0   \n",
       "2                  0                    0                     1   \n",
       "3                  0                    1                     0   \n",
       "4                  0                    0                     1   \n",
       "\n",
       "   PaymentMethod_Bank transfer (automatic)  \\\n",
       "0                                        0   \n",
       "1                                        0   \n",
       "2                                        0   \n",
       "3                                        1   \n",
       "4                                        0   \n",
       "\n",
       "   PaymentMethod_Credit card (automatic)  PaymentMethod_Electronic check  \\\n",
       "0                                      0                               1   \n",
       "1                                      0                               0   \n",
       "2                                      0                               0   \n",
       "3                                      0                               0   \n",
       "4                                      0                               1   \n",
       "\n",
       "   PaymentMethod_Mailed check  \n",
       "0                           0  \n",
       "1                           1  \n",
       "2                           1  \n",
       "3                           0  \n",
       "4                           0  \n",
       "\n",
       "[5 rows x 46 columns]"
      ]
     },
     "execution_count": 12,
     "metadata": {},
     "output_type": "execute_result"
    }
   ],
   "source": [
    "# Converting all the categorical variables into dummy variables\n",
    "telecom_df_dummies = pd.get_dummies(telecom_df_1)\n",
    "telecom_df_dummies.head()"
   ]
  },
  {
   "cell_type": "code",
   "execution_count": 13,
   "id": "67d745fd",
   "metadata": {},
   "outputs": [
    {
     "name": "stdout",
     "output_type": "stream",
     "text": [
      "********************\n",
      "customerID\n",
      "********************\n",
      "No. of unique value for column 'customerID'::7043\n",
      "\n",
      "\n",
      "7590-VHVEG    1\n",
      "3791-LGQCY    1\n",
      "6008-NAIXK    1\n",
      "5956-YHHRX    1\n",
      "5365-LLFYV    1\n",
      "             ..\n",
      "9796-MVYXX    1\n",
      "2637-FKFSY    1\n",
      "1552-AAGRX    1\n",
      "4304-TSPVK    1\n",
      "3186-AJIEK    1\n",
      "Name: customerID, Length: 7043, dtype: int64\n",
      "==================================================\n",
      "********************\n",
      "gender\n",
      "********************\n",
      "No. of unique value for column 'gender'::2\n",
      "\n",
      "\n",
      "Male      3555\n",
      "Female    3488\n",
      "Name: gender, dtype: int64\n",
      "==================================================\n",
      "********************\n",
      "SeniorCitizen\n",
      "********************\n",
      "No. of unique value for column 'SeniorCitizen'::2\n",
      "\n",
      "\n",
      "0    5901\n",
      "1    1142\n",
      "Name: SeniorCitizen, dtype: int64\n",
      "==================================================\n",
      "********************\n",
      "Partner\n",
      "********************\n",
      "No. of unique value for column 'Partner'::2\n",
      "\n",
      "\n",
      "No     3641\n",
      "Yes    3402\n",
      "Name: Partner, dtype: int64\n",
      "==================================================\n",
      "********************\n",
      "Dependents\n",
      "********************\n",
      "No. of unique value for column 'Dependents'::2\n",
      "\n",
      "\n",
      "No     4933\n",
      "Yes    2110\n",
      "Name: Dependents, dtype: int64\n",
      "==================================================\n",
      "********************\n",
      "tenure\n",
      "********************\n",
      "No. of unique value for column 'tenure'::73\n",
      "\n",
      "\n",
      "1     613\n",
      "72    362\n",
      "2     238\n",
      "3     200\n",
      "4     176\n",
      "     ... \n",
      "28     57\n",
      "39     56\n",
      "44     51\n",
      "36     50\n",
      "0      11\n",
      "Name: tenure, Length: 73, dtype: int64\n",
      "==================================================\n",
      "********************\n",
      "PhoneService\n",
      "********************\n",
      "No. of unique value for column 'PhoneService'::2\n",
      "\n",
      "\n",
      "Yes    6361\n",
      "No      682\n",
      "Name: PhoneService, dtype: int64\n",
      "==================================================\n",
      "********************\n",
      "MultipleLines\n",
      "********************\n",
      "No. of unique value for column 'MultipleLines'::3\n",
      "\n",
      "\n",
      "No                  3390\n",
      "Yes                 2971\n",
      "No phone service     682\n",
      "Name: MultipleLines, dtype: int64\n",
      "==================================================\n",
      "********************\n",
      "InternetService\n",
      "********************\n",
      "No. of unique value for column 'InternetService'::3\n",
      "\n",
      "\n",
      "Fiber optic    3096\n",
      "DSL            2421\n",
      "No             1526\n",
      "Name: InternetService, dtype: int64\n",
      "==================================================\n",
      "********************\n",
      "OnlineSecurity\n",
      "********************\n",
      "No. of unique value for column 'OnlineSecurity'::3\n",
      "\n",
      "\n",
      "No                     3498\n",
      "Yes                    2019\n",
      "No internet service    1526\n",
      "Name: OnlineSecurity, dtype: int64\n",
      "==================================================\n",
      "********************\n",
      "OnlineBackup\n",
      "********************\n",
      "No. of unique value for column 'OnlineBackup'::3\n",
      "\n",
      "\n",
      "No                     3088\n",
      "Yes                    2429\n",
      "No internet service    1526\n",
      "Name: OnlineBackup, dtype: int64\n",
      "==================================================\n",
      "********************\n",
      "DeviceProtection\n",
      "********************\n",
      "No. of unique value for column 'DeviceProtection'::3\n",
      "\n",
      "\n",
      "No                     3095\n",
      "Yes                    2422\n",
      "No internet service    1526\n",
      "Name: DeviceProtection, dtype: int64\n",
      "==================================================\n",
      "********************\n",
      "TechSupport\n",
      "********************\n",
      "No. of unique value for column 'TechSupport'::3\n",
      "\n",
      "\n",
      "No                     3473\n",
      "Yes                    2044\n",
      "No internet service    1526\n",
      "Name: TechSupport, dtype: int64\n",
      "==================================================\n",
      "********************\n",
      "StreamingTV\n",
      "********************\n",
      "No. of unique value for column 'StreamingTV'::3\n",
      "\n",
      "\n",
      "No                     2810\n",
      "Yes                    2707\n",
      "No internet service    1526\n",
      "Name: StreamingTV, dtype: int64\n",
      "==================================================\n",
      "********************\n",
      "StreamingMovies\n",
      "********************\n",
      "No. of unique value for column 'StreamingMovies'::3\n",
      "\n",
      "\n",
      "No                     2785\n",
      "Yes                    2732\n",
      "No internet service    1526\n",
      "Name: StreamingMovies, dtype: int64\n",
      "==================================================\n",
      "********************\n",
      "Contract\n",
      "********************\n",
      "No. of unique value for column 'Contract'::3\n",
      "\n",
      "\n",
      "Month-to-month    3875\n",
      "Two year          1695\n",
      "One year          1473\n",
      "Name: Contract, dtype: int64\n",
      "==================================================\n",
      "********************\n",
      "PaperlessBilling\n",
      "********************\n",
      "No. of unique value for column 'PaperlessBilling'::2\n",
      "\n",
      "\n",
      "Yes    4171\n",
      "No     2872\n",
      "Name: PaperlessBilling, dtype: int64\n",
      "==================================================\n",
      "********************\n",
      "PaymentMethod\n",
      "********************\n",
      "No. of unique value for column 'PaymentMethod'::4\n",
      "\n",
      "\n",
      "Electronic check             2365\n",
      "Mailed check                 1612\n",
      "Bank transfer (automatic)    1544\n",
      "Credit card (automatic)      1522\n",
      "Name: PaymentMethod, dtype: int64\n",
      "==================================================\n",
      "********************\n",
      "MonthlyCharges\n",
      "********************\n",
      "No. of unique value for column 'MonthlyCharges'::1585\n",
      "\n",
      "\n",
      "20.05     61\n",
      "19.85     45\n",
      "19.95     44\n",
      "19.90     44\n",
      "20.00     43\n",
      "          ..\n",
      "23.65      1\n",
      "114.70     1\n",
      "43.65      1\n",
      "87.80      1\n",
      "78.70      1\n",
      "Name: MonthlyCharges, Length: 1585, dtype: int64\n",
      "==================================================\n",
      "********************\n",
      "TotalCharges\n",
      "********************\n",
      "No. of unique value for column 'TotalCharges'::6531\n",
      "\n",
      "\n",
      "1397.475    11\n",
      "20.200      11\n",
      "19.750       9\n",
      "20.050       8\n",
      "19.900       8\n",
      "            ..\n",
      "6849.400     1\n",
      "692.350      1\n",
      "130.150      1\n",
      "3211.900     1\n",
      "6844.500     1\n",
      "Name: TotalCharges, Length: 6531, dtype: int64\n",
      "==================================================\n",
      "********************\n",
      "Churn\n",
      "********************\n",
      "No. of unique value for column 'Churn'::2\n",
      "\n",
      "\n",
      "No     5174\n",
      "Yes    1869\n",
      "Name: Churn, dtype: int64\n",
      "==================================================\n"
     ]
    }
   ],
   "source": [
    "get_summary(telecom_df)"
   ]
  },
  {
   "cell_type": "markdown",
   "id": "528fd4db",
   "metadata": {},
   "source": [
    "### Correlation \n",
    "\n",
    "- Checking the correlation of Churn with other features\n",
    "- From the correlation graph, it is clear that the correlation of Churn with Monthwise contract, a user who is not into online security and not taking any kind of technical support have positive correlation\n",
    "- And, correlation of churn with tenure, user with two-year contract is highly negative\n",
    "- This means customer who are in month-to-month contract has a high chance of dropping the service\n",
    "- Suprisingly, people who are not taking internet service have negative correlation with churn"
   ]
  },
  {
   "cell_type": "code",
   "execution_count": 16,
   "id": "4091c1b0",
   "metadata": {},
   "outputs": [
    {
     "data": {
      "text/plain": [
       "<AxesSubplot:>"
      ]
     },
     "execution_count": 16,
     "metadata": {},
     "output_type": "execute_result"
    },
    {
     "data": {
      "image/png": "[encoded data removed]",
      "text/plain": [
       "<Figure size 1080x576 with 1 Axes>"
      ]
     },
     "metadata": {
      "needs_background": "light"
     },
     "output_type": "display_data"
    }
   ],
   "source": [
    "plt.figure(figsize=(15,8))\n",
    "telecom_df_dummies.corr()['Churn'].sort_values(ascending = False).plot(kind='bar')\n"
   ]
  },
  {
   "cell_type": "markdown",
   "id": "76a650a3",
   "metadata": {},
   "source": [
    "### Exploratory Data Analysis (EDA)\n"
   ]
  },
  {
   "cell_type": "markdown",
   "id": "b5f26b98",
   "metadata": {},
   "source": [
    "### A bar char that represents the total number of active and churned customers\n",
    "The number of active customer is higher compared to the churned customer  \n",
    "Around 73% of customers are active with upguard platform with 26% of customer being churned"
   ]
  },
  {
   "cell_type": "code",
   "execution_count": 17,
   "id": "1a76bd64",
   "metadata": {},
   "outputs": [
    {
     "data": {
      "text/html": [
       "<div>\n",
       "<style scoped>\n",
       "    .dataframe tbody tr th:only-of-type {\n",
       "        vertical-align: middle;\n",
       "    }\n",
       "\n",
       "    .dataframe tbody tr th {\n",
       "        vertical-align: top;\n",
       "    }\n",
       "\n",
       "    .dataframe thead th {\n",
       "        text-align: right;\n",
       "    }\n",
       "</style>\n",
       "<table border=\"1\" class=\"dataframe\">\n",
       "  <thead>\n",
       "    <tr style=\"text-align: right;\">\n",
       "      <th></th>\n",
       "      <th>churn</th>\n",
       "      <th>total_number</th>\n",
       "      <th>percentage</th>\n",
       "    </tr>\n",
       "  </thead>\n",
       "  <tbody>\n",
       "    <tr>\n",
       "      <th>0</th>\n",
       "      <td>No</td>\n",
       "      <td>5174</td>\n",
       "      <td>73.463013</td>\n",
       "    </tr>\n",
       "    <tr>\n",
       "      <th>1</th>\n",
       "      <td>Yes</td>\n",
       "      <td>1869</td>\n",
       "      <td>26.536987</td>\n",
       "    </tr>\n",
       "  </tbody>\n",
       "</table>\n",
       "</div>"
      ],
      "text/plain": [
       "  churn  total_number  percentage\n",
       "0    No          5174   73.463013\n",
       "1   Yes          1869   26.536987"
      ]
     },
     "execution_count": 17,
     "metadata": {},
     "output_type": "execute_result"
    }
   ],
   "source": [
    "churn_data = telecom_df['Churn'].value_counts()\n",
    "churn_df = pd.DataFrame(churn_data)\n",
    "churn_df.reset_index(inplace = True)\n",
    "churn_df.columns = ['churn', 'total_number']\n",
    "total = churn_df['total_number'].sum()\n",
    "churn_df['percentage'] = churn_df['total_number'].apply(lambda x:(x/total)*100)\n",
    "churn_df\n"
   ]
  },
  {
   "cell_type": "code",
   "execution_count": 18,
   "id": "26c1279e",
   "metadata": {},
   "outputs": [
    {
     "data": {
      "image/png": "[encoded data removed]",
      "text/plain": [
       "<Figure size 576x360 with 1 Axes>"
      ]
     },
     "metadata": {
      "needs_background": "light"
     },
     "output_type": "display_data"
    }
   ],
   "source": [
    "x = 'churn'\n",
    "y= 'percentage'\n",
    "df = churn_df\n",
    "title = \"Bar plot that shows total percentage of active and churn customer\"\n",
    "barplot(x, y, df, title)"
   ]
  },
  {
   "cell_type": "markdown",
   "id": "b3e9a892",
   "metadata": {},
   "source": [
    "### A bar char that represents the total number of male and female customers\n"
   ]
  },
  {
   "cell_type": "code",
   "execution_count": 19,
   "id": "09829e4d",
   "metadata": {},
   "outputs": [
    {
     "data": {
      "text/html": [
       "<div>\n",
       "<style scoped>\n",
       "    .dataframe tbody tr th:only-of-type {\n",
       "        vertical-align: middle;\n",
       "    }\n",
       "\n",
       "    .dataframe tbody tr th {\n",
       "        vertical-align: top;\n",
       "    }\n",
       "\n",
       "    .dataframe thead th {\n",
       "        text-align: right;\n",
       "    }\n",
       "</style>\n",
       "<table border=\"1\" class=\"dataframe\">\n",
       "  <thead>\n",
       "    <tr style=\"text-align: right;\">\n",
       "      <th></th>\n",
       "      <th>gender</th>\n",
       "      <th>total_number</th>\n",
       "      <th>percentage</th>\n",
       "    </tr>\n",
       "  </thead>\n",
       "  <tbody>\n",
       "    <tr>\n",
       "      <th>0</th>\n",
       "      <td>Male</td>\n",
       "      <td>3555</td>\n",
       "      <td>50.47565</td>\n",
       "    </tr>\n",
       "    <tr>\n",
       "      <th>1</th>\n",
       "      <td>Female</td>\n",
       "      <td>3488</td>\n",
       "      <td>49.52435</td>\n",
       "    </tr>\n",
       "  </tbody>\n",
       "</table>\n",
       "</div>"
      ],
      "text/plain": [
       "   gender  total_number  percentage\n",
       "0    Male          3555    50.47565\n",
       "1  Female          3488    49.52435"
      ]
     },
     "execution_count": 19,
     "metadata": {},
     "output_type": "execute_result"
    }
   ],
   "source": [
    "gender_data = telecom_df['gender'].value_counts()\n",
    "gender_df = pd.DataFrame(gender_data)\n",
    "gender_df.reset_index(inplace = True)\n",
    "gender_df.columns = ['gender', 'total_number']\n",
    "total = gender_df['total_number'].sum()\n",
    "gender_df['percentage'] = gender_df['total_number'].apply(lambda x:(x/total)*100)\n",
    "gender_df"
   ]
  },
  {
   "cell_type": "code",
   "execution_count": 20,
   "id": "f8d478a1",
   "metadata": {},
   "outputs": [
    {
     "data": {
      "image/png": "[encoded data removed]",
      "text/plain": [
       "<Figure size 576x360 with 1 Axes>"
      ]
     },
     "metadata": {},
     "output_type": "display_data"
    }
   ],
   "source": [
    "x = 'gender'\n",
    "y= 'percentage'\n",
    "df = gender_df\n",
    "title = \"Bar plot that shows total percentage of male and female customer\"\n",
    "barplot(x, y, df, title)"
   ]
  },
  {
   "cell_type": "markdown",
   "id": "20a7c60a",
   "metadata": {},
   "source": [
    "### Grouped bar chart that shows the active and churned customers according to the gender\n",
    "\n",
    "- From the grouped bar chat below, it can be depicted that both male and female customer seems to have similar number of churned and active rate \n"
   ]
  },
  {
   "cell_type": "code",
   "execution_count": 21,
   "id": "1dcdc2c3",
   "metadata": {},
   "outputs": [
    {
     "data": {
      "text/html": [
       "<div>\n",
       "<style scoped>\n",
       "    .dataframe tbody tr th:only-of-type {\n",
       "        vertical-align: middle;\n",
       "    }\n",
       "\n",
       "    .dataframe tbody tr th {\n",
       "        vertical-align: top;\n",
       "    }\n",
       "\n",
       "    .dataframe thead th {\n",
       "        text-align: right;\n",
       "    }\n",
       "</style>\n",
       "<table border=\"1\" class=\"dataframe\">\n",
       "  <thead>\n",
       "    <tr style=\"text-align: right;\">\n",
       "      <th></th>\n",
       "      <th></th>\n",
       "      <th>customerID</th>\n",
       "    </tr>\n",
       "    <tr>\n",
       "      <th>gender</th>\n",
       "      <th>Churn</th>\n",
       "      <th></th>\n",
       "    </tr>\n",
       "  </thead>\n",
       "  <tbody>\n",
       "    <tr>\n",
       "      <th rowspan=\"2\" valign=\"top\">Female</th>\n",
       "      <th>No</th>\n",
       "      <td>2549</td>\n",
       "    </tr>\n",
       "    <tr>\n",
       "      <th>Yes</th>\n",
       "      <td>939</td>\n",
       "    </tr>\n",
       "    <tr>\n",
       "      <th rowspan=\"2\" valign=\"top\">Male</th>\n",
       "      <th>No</th>\n",
       "      <td>2625</td>\n",
       "    </tr>\n",
       "    <tr>\n",
       "      <th>Yes</th>\n",
       "      <td>930</td>\n",
       "    </tr>\n",
       "  </tbody>\n",
       "</table>\n",
       "</div>"
      ],
      "text/plain": [
       "              customerID\n",
       "gender Churn            \n",
       "Female No           2549\n",
       "       Yes           939\n",
       "Male   No           2625\n",
       "       Yes           930"
      ]
     },
     "execution_count": 21,
     "metadata": {},
     "output_type": "execute_result"
    }
   ],
   "source": [
    "gender_churn_df = pd.DataFrame(telecom_df.groupby(['gender', 'Churn'])['customerID'].count())\n",
    "gender_churn_df"
   ]
  },
  {
   "cell_type": "code",
   "execution_count": 22,
   "id": "994d4a1b",
   "metadata": {},
   "outputs": [
    {
     "data": {
      "text/plain": [
       "Text(0.5, 1.0, 'Grouped bar chart for active and churned customer according to gender')"
      ]
     },
     "execution_count": 22,
     "metadata": {},
     "output_type": "execute_result"
    },
    {
     "data": {
      "image/png": "[encoded data removed]",
      "text/plain": [
       "<Figure size 864x576 with 1 Axes>"
      ]
     },
     "metadata": {},
     "output_type": "display_data"
    }
   ],
   "source": [
    "fig, ax = plt.subplots(figsize = (12,8))\n",
    "gender_churn_df.unstack().plot(kind='bar', rot = 30, ax =ax)\n",
    "ax.legend([\"Active\", \"Churned\"]);\n",
    "ax.set_title(\"Grouped bar chart for active and churned customer according to gender\")"
   ]
  },
  {
   "cell_type": "code",
   "execution_count": 23,
   "id": "c1b288d9",
   "metadata": {},
   "outputs": [
    {
     "data": {
      "text/html": [
       "<div>\n",
       "<style scoped>\n",
       "    .dataframe tbody tr th:only-of-type {\n",
       "        vertical-align: middle;\n",
       "    }\n",
       "\n",
       "    .dataframe tbody tr th {\n",
       "        vertical-align: top;\n",
       "    }\n",
       "\n",
       "    .dataframe thead th {\n",
       "        text-align: right;\n",
       "    }\n",
       "</style>\n",
       "<table border=\"1\" class=\"dataframe\">\n",
       "  <thead>\n",
       "    <tr style=\"text-align: right;\">\n",
       "      <th></th>\n",
       "      <th>senior_citizen</th>\n",
       "      <th>total_number</th>\n",
       "      <th>percentage</th>\n",
       "    </tr>\n",
       "  </thead>\n",
       "  <tbody>\n",
       "    <tr>\n",
       "      <th>0</th>\n",
       "      <td>0</td>\n",
       "      <td>5901</td>\n",
       "      <td>83.785319</td>\n",
       "    </tr>\n",
       "    <tr>\n",
       "      <th>1</th>\n",
       "      <td>1</td>\n",
       "      <td>1142</td>\n",
       "      <td>16.214681</td>\n",
       "    </tr>\n",
       "  </tbody>\n",
       "</table>\n",
       "</div>"
      ],
      "text/plain": [
       "   senior_citizen  total_number  percentage\n",
       "0               0          5901   83.785319\n",
       "1               1          1142   16.214681"
      ]
     },
     "execution_count": 23,
     "metadata": {},
     "output_type": "execute_result"
    }
   ],
   "source": [
    "senior_data = telecom_df['SeniorCitizen'].value_counts()\n",
    "senior_df = pd.DataFrame(senior_data)\n",
    "senior_df.reset_index(inplace = True)\n",
    "senior_df.columns = ['senior_citizen', 'total_number']\n",
    "total = senior_df['total_number'].sum()\n",
    "senior_df['percentage'] = senior_df['total_number'].apply(lambda x:(x/total)*100)\n",
    "senior_df"
   ]
  },
  {
   "cell_type": "markdown",
   "id": "90c22ac4",
   "metadata": {},
   "source": [
    "### A bar char that represents the total number of male and female customers\n"
   ]
  },
  {
   "cell_type": "code",
   "execution_count": 24,
   "id": "fbd247a3",
   "metadata": {},
   "outputs": [
    {
     "data": {
      "image/png": "[encoded data removed]",
      "text/plain": [
       "<Figure size 576x360 with 1 Axes>"
      ]
     },
     "metadata": {},
     "output_type": "display_data"
    }
   ],
   "source": [
    "x = 'senior_citizen'\n",
    "y= 'percentage'\n",
    "df = senior_df\n",
    "title = \"Bar plot that shows total percentage of male and female customer\"\n",
    "barplot(x, y, df, title)"
   ]
  },
  {
   "cell_type": "markdown",
   "id": "b85919da",
   "metadata": {},
   "source": [
    "### Grouped bar chart that shows the active and churned customers according to the senior citizen\n",
    "\n",
    "- From the grouped bar chart below, it can be depicted that customer who are not a senior citizen found to be more active and have more churn rate as compared to senior citizen \n"
   ]
  },
  {
   "cell_type": "code",
   "execution_count": 25,
   "id": "83e02328",
   "metadata": {},
   "outputs": [
    {
     "data": {
      "text/html": [
       "<div>\n",
       "<style scoped>\n",
       "    .dataframe tbody tr th:only-of-type {\n",
       "        vertical-align: middle;\n",
       "    }\n",
       "\n",
       "    .dataframe tbody tr th {\n",
       "        vertical-align: top;\n",
       "    }\n",
       "\n",
       "    .dataframe thead th {\n",
       "        text-align: right;\n",
       "    }\n",
       "</style>\n",
       "<table border=\"1\" class=\"dataframe\">\n",
       "  <thead>\n",
       "    <tr style=\"text-align: right;\">\n",
       "      <th></th>\n",
       "      <th></th>\n",
       "      <th>customerID</th>\n",
       "    </tr>\n",
       "    <tr>\n",
       "      <th>SeniorCitizen</th>\n",
       "      <th>Churn</th>\n",
       "      <th></th>\n",
       "    </tr>\n",
       "  </thead>\n",
       "  <tbody>\n",
       "    <tr>\n",
       "      <th rowspan=\"2\" valign=\"top\">0</th>\n",
       "      <th>No</th>\n",
       "      <td>4508</td>\n",
       "    </tr>\n",
       "    <tr>\n",
       "      <th>Yes</th>\n",
       "      <td>1393</td>\n",
       "    </tr>\n",
       "    <tr>\n",
       "      <th rowspan=\"2\" valign=\"top\">1</th>\n",
       "      <th>No</th>\n",
       "      <td>666</td>\n",
       "    </tr>\n",
       "    <tr>\n",
       "      <th>Yes</th>\n",
       "      <td>476</td>\n",
       "    </tr>\n",
       "  </tbody>\n",
       "</table>\n",
       "</div>"
      ],
      "text/plain": [
       "                     customerID\n",
       "SeniorCitizen Churn            \n",
       "0             No           4508\n",
       "              Yes          1393\n",
       "1             No            666\n",
       "              Yes           476"
      ]
     },
     "execution_count": 25,
     "metadata": {},
     "output_type": "execute_result"
    }
   ],
   "source": [
    "senior_churn_df = pd.DataFrame(telecom_df.groupby(['SeniorCitizen', 'Churn'])['customerID'].count())\n",
    "senior_churn_df"
   ]
  },
  {
   "cell_type": "code",
   "execution_count": 26,
   "id": "34f89e91",
   "metadata": {},
   "outputs": [
    {
     "data": {
      "text/plain": [
       "Text(0.5, 1.0, 'Grouped bar chart for active and churned customer according to gender')"
      ]
     },
     "execution_count": 26,
     "metadata": {},
     "output_type": "execute_result"
    },
    {
     "data": {
      "image/png": "[encoded data removed]",
      "text/plain": [
       "<Figure size 864x576 with 1 Axes>"
      ]
     },
     "metadata": {},
     "output_type": "display_data"
    }
   ],
   "source": [
    "fig, ax = plt.subplots(figsize = (12,8))\n",
    "senior_churn_df.unstack().plot(kind='bar', rot = 30, ax =ax)\n",
    "ax.legend([\"Active\", \"Churned\"]);\n",
    "ax.set_title(\"Grouped bar chart for active and churned customer according to gender\")"
   ]
  },
  {
   "cell_type": "markdown",
   "id": "8c9103f2",
   "metadata": {},
   "source": [
    "### A histogram that shows the number of customer vs the tenure\n",
    "\n",
    "- The customer number is found to be high and using the service for the first 1-2 months of usage and \n",
    "- the number of customer seems to be low using the service found to be low from 5 to 65 months of usage\n",
    "- and, again the number of customer using the service for more than 70 months is high\n",
    "- The reason behind this might be the customer is using the service based on certain contract and customers are more interested into month-to-month contract "
   ]
  },
  {
   "cell_type": "code",
   "execution_count": 27,
   "id": "d0422d0e",
   "metadata": {},
   "outputs": [
    {
     "name": "stderr",
     "output_type": "stream",
     "text": [
      "C:\\Users\\Abhiyush\\anaconda3\\envs\\aby\\lib\\site-packages\\seaborn\\distributions.py:2619: FutureWarning: `distplot` is a deprecated function and will be removed in a future version. Please adapt your code to use either `displot` (a figure-level function with similar flexibility) or `histplot` (an axes-level function for histograms).\n",
      "  warnings.warn(msg, FutureWarning)\n"
     ]
    },
    {
     "data": {
      "text/plain": [
       "Text(0.5, 1.0, 'No of Customers by their tenure')"
      ]
     },
     "execution_count": 27,
     "metadata": {},
     "output_type": "execute_result"
    },
    {
     "data": {
      "image/png": "[encoded data removed]",
      "text/plain": [
       "<Figure size 432x288 with 1 Axes>"
      ]
     },
     "metadata": {},
     "output_type": "display_data"
    }
   ],
   "source": [
    "ax = sns.distplot(telecom_df['tenure'], kde=False)\n",
    "ax.set_xlabel('Tenure (months)')\n",
    "ax.set_ylabel('No of Customers')\n",
    "ax.set_title('No of Customers by their tenure')"
   ]
  },
  {
   "cell_type": "markdown",
   "id": "0b3be4fe",
   "metadata": {},
   "source": [
    "### A bar char that represents the total number of male and female customers\n",
    "\n",
    "- From this graph, we can see that customers are more into month-to-month contract rather than long term contract\n",
    "- The reason may be the customers are attracted from the offering or new schemes provided by other providers or may be customers are living in the country for few months only\n"
   ]
  },
  {
   "cell_type": "code",
   "execution_count": 28,
   "id": "2d9b3b67",
   "metadata": {},
   "outputs": [
    {
     "data": {
      "text/plain": [
       "Index(['customerID', 'gender', 'SeniorCitizen', 'Partner', 'Dependents',\n",
       "       'tenure', 'PhoneService', 'MultipleLines', 'InternetService',\n",
       "       'OnlineSecurity', 'OnlineBackup', 'DeviceProtection', 'TechSupport',\n",
       "       'StreamingTV', 'StreamingMovies', 'Contract', 'PaperlessBilling',\n",
       "       'PaymentMethod', 'MonthlyCharges', 'TotalCharges', 'Churn'],\n",
       "      dtype='object')"
      ]
     },
     "execution_count": 28,
     "metadata": {},
     "output_type": "execute_result"
    }
   ],
   "source": [
    "telecom_df.columns"
   ]
  },
  {
   "cell_type": "code",
   "execution_count": 29,
   "id": "68655285",
   "metadata": {},
   "outputs": [
    {
     "data": {
      "text/html": [
       "<div>\n",
       "<style scoped>\n",
       "    .dataframe tbody tr th:only-of-type {\n",
       "        vertical-align: middle;\n",
       "    }\n",
       "\n",
       "    .dataframe tbody tr th {\n",
       "        vertical-align: top;\n",
       "    }\n",
       "\n",
       "    .dataframe thead th {\n",
       "        text-align: right;\n",
       "    }\n",
       "</style>\n",
       "<table border=\"1\" class=\"dataframe\">\n",
       "  <thead>\n",
       "    <tr style=\"text-align: right;\">\n",
       "      <th></th>\n",
       "      <th>contract</th>\n",
       "      <th>total_number</th>\n",
       "      <th>percentage</th>\n",
       "    </tr>\n",
       "  </thead>\n",
       "  <tbody>\n",
       "    <tr>\n",
       "      <th>0</th>\n",
       "      <td>Month-to-month</td>\n",
       "      <td>3875</td>\n",
       "      <td>55.019168</td>\n",
       "    </tr>\n",
       "    <tr>\n",
       "      <th>1</th>\n",
       "      <td>Two year</td>\n",
       "      <td>1695</td>\n",
       "      <td>24.066449</td>\n",
       "    </tr>\n",
       "    <tr>\n",
       "      <th>2</th>\n",
       "      <td>One year</td>\n",
       "      <td>1473</td>\n",
       "      <td>20.914383</td>\n",
       "    </tr>\n",
       "  </tbody>\n",
       "</table>\n",
       "</div>"
      ],
      "text/plain": [
       "         contract  total_number  percentage\n",
       "0  Month-to-month          3875   55.019168\n",
       "1        Two year          1695   24.066449\n",
       "2        One year          1473   20.914383"
      ]
     },
     "execution_count": 29,
     "metadata": {},
     "output_type": "execute_result"
    }
   ],
   "source": [
    "contract_data = telecom_df['Contract'].value_counts()\n",
    "contract_df = pd.DataFrame(contract_data)\n",
    "contract_df.reset_index(inplace = True)\n",
    "contract_df.columns = ['contract', 'total_number']\n",
    "total = contract_df['total_number'].sum()\n",
    "contract_df['percentage'] = contract_df['total_number'].apply(lambda x:(x/total)*100)\n",
    "contract_df"
   ]
  },
  {
   "cell_type": "code",
   "execution_count": 30,
   "id": "81e7ce72",
   "metadata": {},
   "outputs": [
    {
     "data": {
      "image/png": "[encoded data removed]",
      "text/plain": [
       "<Figure size 576x360 with 1 Axes>"
      ]
     },
     "metadata": {},
     "output_type": "display_data"
    }
   ],
   "source": [
    "x = 'contract'\n",
    "y= 'percentage'\n",
    "df = contract_df\n",
    "title = \"Bar plot that shows total percentage of customer that are into different contract\"\n",
    "barplot(x, y, df, title)"
   ]
  },
  {
   "cell_type": "markdown",
   "id": "5136b42a",
   "metadata": {},
   "source": [
    "### Grouped bar chart that shows the active and churned customers according to the contract\n",
    "\n",
    "- From the grouped bar chart below, it can be depicted that customer who are found to be more active compared to customers in other contract\n",
    "- Evethough, monthwise customers are high, the churned rate who are in month-to-month contract are huge as compared to the customer who are in long term contract\n",
    "- And, the customer who are in two year contract is found to even less churn rate and high active rate"
   ]
  },
  {
   "cell_type": "code",
   "execution_count": 31,
   "id": "bf1a757f",
   "metadata": {},
   "outputs": [
    {
     "data": {
      "text/html": [
       "<div>\n",
       "<style scoped>\n",
       "    .dataframe tbody tr th:only-of-type {\n",
       "        vertical-align: middle;\n",
       "    }\n",
       "\n",
       "    .dataframe tbody tr th {\n",
       "        vertical-align: top;\n",
       "    }\n",
       "\n",
       "    .dataframe thead th {\n",
       "        text-align: right;\n",
       "    }\n",
       "</style>\n",
       "<table border=\"1\" class=\"dataframe\">\n",
       "  <thead>\n",
       "    <tr style=\"text-align: right;\">\n",
       "      <th></th>\n",
       "      <th></th>\n",
       "      <th>customerID</th>\n",
       "    </tr>\n",
       "    <tr>\n",
       "      <th>Contract</th>\n",
       "      <th>Churn</th>\n",
       "      <th></th>\n",
       "    </tr>\n",
       "  </thead>\n",
       "  <tbody>\n",
       "    <tr>\n",
       "      <th rowspan=\"2\" valign=\"top\">Month-to-month</th>\n",
       "      <th>No</th>\n",
       "      <td>2220</td>\n",
       "    </tr>\n",
       "    <tr>\n",
       "      <th>Yes</th>\n",
       "      <td>1655</td>\n",
       "    </tr>\n",
       "    <tr>\n",
       "      <th rowspan=\"2\" valign=\"top\">One year</th>\n",
       "      <th>No</th>\n",
       "      <td>1307</td>\n",
       "    </tr>\n",
       "    <tr>\n",
       "      <th>Yes</th>\n",
       "      <td>166</td>\n",
       "    </tr>\n",
       "    <tr>\n",
       "      <th rowspan=\"2\" valign=\"top\">Two year</th>\n",
       "      <th>No</th>\n",
       "      <td>1647</td>\n",
       "    </tr>\n",
       "    <tr>\n",
       "      <th>Yes</th>\n",
       "      <td>48</td>\n",
       "    </tr>\n",
       "  </tbody>\n",
       "</table>\n",
       "</div>"
      ],
      "text/plain": [
       "                      customerID\n",
       "Contract       Churn            \n",
       "Month-to-month No           2220\n",
       "               Yes          1655\n",
       "One year       No           1307\n",
       "               Yes           166\n",
       "Two year       No           1647\n",
       "               Yes            48"
      ]
     },
     "execution_count": 31,
     "metadata": {},
     "output_type": "execute_result"
    }
   ],
   "source": [
    "contract_churn_df = pd.DataFrame(telecom_df.groupby(['Contract', 'Churn'])['customerID'].count())\n",
    "contract_churn_df"
   ]
  },
  {
   "cell_type": "code",
   "execution_count": 32,
   "id": "45ebad57",
   "metadata": {},
   "outputs": [
    {
     "data": {
      "text/plain": [
       "Text(0.5, 1.0, 'Grouped bar chart for active and churned customer according to contract')"
      ]
     },
     "execution_count": 32,
     "metadata": {},
     "output_type": "execute_result"
    },
    {
     "data": {
      "image/png": "[encoded data removed]",
      "text/plain": [
       "<Figure size 864x576 with 1 Axes>"
      ]
     },
     "metadata": {},
     "output_type": "display_data"
    }
   ],
   "source": [
    "fig, ax = plt.subplots(figsize = (12,8))\n",
    "contract_churn_df.unstack().plot(kind='bar', rot = 30, ax =ax)\n",
    "ax.legend([\"Active\", \"Churned\"]);\n",
    "ax.set_title(\"Grouped bar chart for active and churned customer according to contract\")"
   ]
  },
  {
   "cell_type": "markdown",
   "id": "66435cd3",
   "metadata": {},
   "source": [
    "### A bar char that represents the total number of customers according to different service\n"
   ]
  },
  {
   "cell_type": "code",
   "execution_count": 33,
   "id": "cea3107c",
   "metadata": {
    "scrolled": false
   },
   "outputs": [
    {
     "name": "stdout",
     "output_type": "stream",
     "text": [
      "********************\n",
      "PhoneService\n",
      "********************\n",
      "No. of unique value for column 'PhoneService'::2\n",
      "\n",
      "\n",
      "Yes    6361\n",
      "No      682\n",
      "Name: PhoneService, dtype: int64\n",
      "==================================================\n",
      "********************\n",
      "MultipleLines\n",
      "********************\n",
      "No. of unique value for column 'MultipleLines'::3\n",
      "\n",
      "\n",
      "No                  3390\n",
      "Yes                 2971\n",
      "No phone service     682\n",
      "Name: MultipleLines, dtype: int64\n",
      "==================================================\n",
      "********************\n",
      "InternetService\n",
      "********************\n",
      "No. of unique value for column 'InternetService'::3\n",
      "\n",
      "\n",
      "Fiber optic    3096\n",
      "DSL            2421\n",
      "No             1526\n",
      "Name: InternetService, dtype: int64\n",
      "==================================================\n",
      "********************\n",
      "OnlineSecurity\n",
      "********************\n",
      "No. of unique value for column 'OnlineSecurity'::3\n",
      "\n",
      "\n",
      "No                     3498\n",
      "Yes                    2019\n",
      "No internet service    1526\n",
      "Name: OnlineSecurity, dtype: int64\n",
      "==================================================\n",
      "********************\n",
      "OnlineBackup\n",
      "********************\n",
      "No. of unique value for column 'OnlineBackup'::3\n",
      "\n",
      "\n",
      "No                     3088\n",
      "Yes                    2429\n",
      "No internet service    1526\n",
      "Name: OnlineBackup, dtype: int64\n",
      "==================================================\n",
      "********************\n",
      "DeviceProtection\n",
      "********************\n",
      "No. of unique value for column 'DeviceProtection'::3\n",
      "\n",
      "\n",
      "No                     3095\n",
      "Yes                    2422\n",
      "No internet service    1526\n",
      "Name: DeviceProtection, dtype: int64\n",
      "==================================================\n",
      "********************\n",
      "TechSupport\n",
      "********************\n",
      "No. of unique value for column 'TechSupport'::3\n",
      "\n",
      "\n",
      "No                     3473\n",
      "Yes                    2044\n",
      "No internet service    1526\n",
      "Name: TechSupport, dtype: int64\n",
      "==================================================\n",
      "********************\n",
      "StreamingTV\n",
      "********************\n",
      "No. of unique value for column 'StreamingTV'::3\n",
      "\n",
      "\n",
      "No                     2810\n",
      "Yes                    2707\n",
      "No internet service    1526\n",
      "Name: StreamingTV, dtype: int64\n",
      "==================================================\n"
     ]
    },
    {
     "data": {
      "image/png": "[encoded data removed]",
      "text/plain": [
       "<Figure size 1080x720 with 8 Axes>"
      ]
     },
     "metadata": {},
     "output_type": "display_data"
    }
   ],
   "source": [
    "services = ['PhoneService', 'MultipleLines', 'InternetService',\n",
    "       'OnlineSecurity', 'OnlineBackup', 'DeviceProtection', 'TechSupport',\n",
    "       'StreamingTV', 'StreamingMovies']\n",
    "\n",
    "fig, axes = plt.subplots(nrows=2, ncols=4, figsize=(15,10))\n",
    "sns.set_theme(style=\"whitegrid\")\n",
    "fig.tight_layout(pad=4, w_pad=4, h_pad=8)\n",
    "\n",
    "for column, ax in zip(services, axes.flatten()):\n",
    "    data = get_summary(telecom_df, all_features = False, feature_name=column)\n",
    "    df = pd.DataFrame(data)\n",
    "    df.reset_index(inplace = True)\n",
    "    df.columns = [column, 'total_number']\n",
    "    \n",
    "    g = sns.barplot(x=column, y=\"total_number\", data=df, ax = ax)\n",
    "    g.tick_params(axis='x', rotation=90)"
   ]
  },
  {
   "cell_type": "markdown",
   "id": "34d08602",
   "metadata": {},
   "source": [
    "### Graph that shows the distribution of active and churned customer according to monthly charge\n",
    "\n",
    "- From the graph, it can be seen that the customer churn rate is high when the monthy charge is high and \n",
    "- the churn rate is low when the monthly charge is low\n",
    "- the reason may be customer wants to use the service in low cost as possible or the service provided by the provider in higher cost is not good enough"
   ]
  },
  {
   "cell_type": "code",
   "execution_count": 34,
   "id": "1fe14b1d",
   "metadata": {},
   "outputs": [
    {
     "data": {
      "text/plain": [
       "Text(0.5, 1.0, 'Distribution of monthly charges by churn rate')"
      ]
     },
     "execution_count": 34,
     "metadata": {},
     "output_type": "execute_result"
    },
    {
     "data": {
      "image/png": "[encoded data removed]",
      "text/plain": [
       "<Figure size 432x288 with 1 Axes>"
      ]
     },
     "metadata": {},
     "output_type": "display_data"
    }
   ],
   "source": [
    "ax = sns.kdeplot(telecom_df['MonthlyCharges'][(telecom_df[\"Churn\"] == 'No') ],\n",
    "                color=\"Green\", shade = True)\n",
    "ax = sns.kdeplot(telecom_df['MonthlyCharges'][(telecom_df[\"Churn\"] == 'Yes') ],\n",
    "                ax =ax, color=\"Red\", shade= True)\n",
    "ax.legend([\"Active\",\"Churn\"],loc='upper right')\n",
    "ax.set_ylabel('Density of customers')\n",
    "ax.set_xlabel('Monthly Charges')\n",
    "ax.set_title('Distribution of monthly charges by churn rate')"
   ]
  },
  {
   "cell_type": "markdown",
   "id": "a523963c",
   "metadata": {},
   "source": [
    "### Graph that shows the distribution of active and churned customer according to total charge\n",
    "\n",
    "- From the graph, it can be seen that the customer churn rate is high when the total charge is low and \n",
    "- the churn rate is low when the total charge is low"
   ]
  },
  {
   "cell_type": "code",
   "execution_count": 35,
   "id": "4c35d622",
   "metadata": {},
   "outputs": [
    {
     "data": {
      "text/plain": [
       "Text(0.5, 1.0, 'Distribution of Total charges by churn rate')"
      ]
     },
     "execution_count": 35,
     "metadata": {},
     "output_type": "execute_result"
    },
    {
     "data": {
      "image/png": "[encoded data removed]",
      "text/plain": [
       "<Figure size 432x288 with 1 Axes>"
      ]
     },
     "metadata": {},
     "output_type": "display_data"
    }
   ],
   "source": [
    "ax = sns.kdeplot(telecom_df['TotalCharges'][(telecom_df[\"Churn\"] == 'No') ],\n",
    "                color=\"Green\", shade = True)\n",
    "ax = sns.kdeplot(telecom_df['TotalCharges'][(telecom_df[\"Churn\"] == 'Yes') ],\n",
    "                ax =ax, color=\"Red\", shade= True)\n",
    "ax.legend([\"Active\",\"Churn\"],loc='upper right')\n",
    "ax.set_ylabel('Density of customers')\n",
    "ax.set_xlabel('Total Charges')\n",
    "ax.set_title('Distribution of Total charges by churn rate')"
   ]
  },
  {
   "cell_type": "markdown",
   "id": "176a8485",
   "metadata": {},
   "source": [
    "# Predictive models"
   ]
  },
  {
   "cell_type": "code",
   "execution_count": 36,
   "id": "2d87e2e0",
   "metadata": {},
   "outputs": [],
   "source": [
    "from sklearn.model_selection import train_test_split\n",
    "from sklearn.preprocessing import MinMaxScaler\n",
    "from sklearn.linear_model import LogisticRegression\n",
    "from sklearn.ensemble import RandomForestClassifier\n",
    "\\\n",
    "from sklearn import metrics"
   ]
  },
  {
   "cell_type": "markdown",
   "id": "e17332cb",
   "metadata": {},
   "source": [
    "### Preparing the datasets for predictive models"
   ]
  },
  {
   "cell_type": "code",
   "execution_count": 38,
   "id": "9280b4f1",
   "metadata": {},
   "outputs": [],
   "source": [
    "X = telecom_df_dummies.drop(columns = ['Churn'])\n",
    "y = telecom_df_dummies['Churn'].values\n",
    "\n",
    "# Data normalization: normalizing the data in the scale of 0 to 1\n",
    "features = X.columns.values\n",
    "scaler = MinMaxScaler(feature_range = (0,1))\n",
    "scaler.fit(X)\n",
    "X = pd.DataFrame(scaler.transform(X))\n",
    "X.columns = features\n",
    "\n",
    "# Create Train & Test Data\n",
    "X_train, X_test, y_train, y_test = train_test_split(X, y, test_size=0.25, random_state=4)"
   ]
  },
  {
   "cell_type": "markdown",
   "id": "398895c6",
   "metadata": {},
   "source": [
    "### 1. Logistic regression"
   ]
  },
  {
   "cell_type": "code",
   "execution_count": 39,
   "id": "c0c0946f",
   "metadata": {},
   "outputs": [],
   "source": [
    "# Running logistic regression model\n",
    "model_logistic = LogisticRegression()\n",
    "result = model_logistic.fit(X_train, y_train)"
   ]
  },
  {
   "cell_type": "code",
   "execution_count": 40,
   "id": "4e1f2ed9",
   "metadata": {},
   "outputs": [
    {
     "name": "stdout",
     "output_type": "stream",
     "text": [
      "Accuracy:: 0.7898921067575241\n"
     ]
    }
   ],
   "source": [
    "prediction_test = model_logistic.predict(X_test)\n",
    "# Print the prediction accuracy\n",
    "print(\"Accuracy::\", metrics.accuracy_score(y_test, prediction_test))"
   ]
  },
  {
   "cell_type": "markdown",
   "id": "15a49ec3",
   "metadata": {},
   "source": [
    "### Summary from Logistic regression\n",
    "\n",
    "- Logistic regression is achieving the accuracy of 78.98%\n",
    "- And, looking for the weights taken into consideration by logistic regression model, higher weight is given to totalCharges and has positive relation which means higher the total charge greater will be the churn rate\n",
    "- Similarly, people who are is month to month contract is likely to have higher churn rate\n",
    "- Whereas there is negative relation with tenure which means higher the tenure period lower will be the churn rate"
   ]
  },
  {
   "cell_type": "code",
   "execution_count": 41,
   "id": "0e18ea67",
   "metadata": {},
   "outputs": [
    {
     "data": {
      "text/plain": [
       "<AxesSubplot:>"
      ]
     },
     "execution_count": 41,
     "metadata": {},
     "output_type": "execute_result"
    },
    {
     "data": {
      "image/png": "[encoded data removed]",
      "text/plain": [
       "<Figure size 432x288 with 1 Axes>"
      ]
     },
     "metadata": {},
     "output_type": "display_data"
    }
   ],
   "source": [
    "# To get the weights of all the variables\n",
    "weights = pd.Series(model_logistic.coef_[0],\n",
    "                 index=X.columns.values)\n",
    "weights.sort_values(ascending = False)[:10].plot(kind='bar')"
   ]
  },
  {
   "cell_type": "code",
   "execution_count": 42,
   "id": "a1d0e580",
   "metadata": {},
   "outputs": [
    {
     "data": {
      "text/plain": [
       "<AxesSubplot:>"
      ]
     },
     "execution_count": 42,
     "metadata": {},
     "output_type": "execute_result"
    },
    {
     "data": {
      "image/png": "[encoded data removed]",
      "text/plain": [
       "<Figure size 432x288 with 1 Axes>"
      ]
     },
     "metadata": {},
     "output_type": "display_data"
    }
   ],
   "source": [
    "weights.sort_values(ascending = False)[-10:].plot(kind='bar')\n"
   ]
  },
  {
   "cell_type": "markdown",
   "id": "1fef109c",
   "metadata": {},
   "source": [
    "### 2. Random forest"
   ]
  },
  {
   "cell_type": "code",
   "execution_count": 43,
   "id": "5ad037da",
   "metadata": {},
   "outputs": [
    {
     "name": "stdout",
     "output_type": "stream",
     "text": [
      "0.7938671209540034\n"
     ]
    }
   ],
   "source": [
    "model_rf = RandomForestClassifier(n_estimators=1000 , oob_score = True, n_jobs = -1,\n",
    "                                  random_state =50, max_features = \"auto\",\n",
    "                                  max_leaf_nodes = 30)\n",
    "model_rf.fit(X_train, y_train)\n",
    "\n",
    "# Make predictions\n",
    "prediction_test = model_rf.predict(X_test)\n",
    "print (metrics.accuracy_score(y_test, prediction_test))"
   ]
  },
  {
   "cell_type": "markdown",
   "id": "331f46fd",
   "metadata": {},
   "source": [
    "### Summary from Random forest classifier\n",
    "\n",
    "   - From the importance plot, we can see that random forest classifier has given importance to month-to-month contract, tenure, totalCharges while making a prediction for churn \n",
    "   - The features that is taken into consideration by the random forest is similar to the logistic regression and also aligns with the Exploratory Data Analysis"
   ]
  },
  {
   "cell_type": "code",
   "execution_count": 44,
   "id": "56083b78",
   "metadata": {},
   "outputs": [
    {
     "data": {
      "text/plain": [
       "<AxesSubplot:>"
      ]
     },
     "execution_count": 44,
     "metadata": {},
     "output_type": "execute_result"
    },
    {
     "data": {
      "image/png": "[encoded data removed]",
      "text/plain": [
       "<Figure size 432x288 with 1 Axes>"
      ]
     },
     "metadata": {},
     "output_type": "display_data"
    }
   ],
   "source": [
    "importances = model_rf.feature_importances_\n",
    "weights = pd.Series(importances,\n",
    "                 index=X.columns.values)\n",
    "weights.sort_values()[-10:].plot(kind = 'barh')"
   ]
  },
  {
   "cell_type": "markdown",
   "id": "69ff4c2c",
   "metadata": {},
   "source": [
    "### 3. Support Vector Machine"
   ]
  },
  {
   "cell_type": "code",
   "execution_count": 46,
   "id": "b0bb5b9d",
   "metadata": {},
   "outputs": [
    {
     "data": {
      "text/plain": [
       "0.7898921067575241"
      ]
     },
     "execution_count": 46,
     "metadata": {},
     "output_type": "execute_result"
    }
   ],
   "source": [
    "from sklearn.svm import SVC\n",
    "\n",
    "model_svm = SVC(kernel='linear') \n",
    "model_svm.fit(X_train,y_train)\n",
    "preds = model_svm.predict(X_test)\n",
    "metrics.accuracy_score(y_test, preds)"
   ]
  },
  {
   "cell_type": "markdown",
   "id": "26711d26",
   "metadata": {},
   "source": [
    "### 4. ADA Boost"
   ]
  },
  {
   "cell_type": "code",
   "execution_count": 48,
   "id": "20378d9b",
   "metadata": {},
   "outputs": [
    {
     "data": {
      "text/plain": [
       "0.7881885292447472"
      ]
     },
     "execution_count": 48,
     "metadata": {},
     "output_type": "execute_result"
    }
   ],
   "source": [
    "# AdaBoost Algorithm\n",
    "from sklearn.ensemble import AdaBoostClassifier\n",
    "model_ada = AdaBoostClassifier()\n",
    "model_ada.fit(X_train,y_train)\n",
    "preds = model_ada.predict(X_test)\n",
    "metrics.accuracy_score(y_test, preds)"
   ]
  },
  {
   "cell_type": "code",
   "execution_count": null,
   "id": "20bdf38d",
   "metadata": {},
   "outputs": [],
   "source": []
  }
 ],
 "metadata": {
  "kernelspec": {
   "display_name": "Python 3 (ipykernel)",
   "language": "python",
   "name": "python3"
  },
  "language_info": {
   "codemirror_mode": {
    "name": "ipython",
    "version": 3
   },
   "file_extension": ".py",
   "mimetype": "text/x-python",
   "name": "python",
   "nbconvert_exporter": "python",
   "pygments_lexer": "ipython3",
   "version": "3.9.7"
  }
 },
 "nbformat": 4,
 "nbformat_minor": 5
}
